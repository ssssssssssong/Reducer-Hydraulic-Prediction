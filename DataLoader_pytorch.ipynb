{
 "cells": [
  {
   "cell_type": "code",
   "execution_count": 34,
   "id": "cc2e649d",
   "metadata": {},
   "outputs": [],
   "source": [
    "import pandas as pd\n",
    "from glob import glob\n",
    "from torch.utils.data import TensorDataset, DataLoader, random_split\n",
    "import torch\n",
    "import torch.nn as nn\n",
    "import torch.optim as optim\n",
    "import os\n",
    "import math\n",
    "import shutil\n",
    "import torch.nn.functional as F"
   ]
  },
  {
   "cell_type": "code",
   "execution_count": 3,
   "id": "5379d44a",
   "metadata": {},
   "outputs": [
    {
     "name": "stdout",
     "output_type": "stream",
     "text": [
      "281\n"
     ]
    }
   ],
   "source": [
    "data_path = os.path.join(os.getcwd(), 'csv_final')\n",
    "data_path_list = glob(os.path.join(data_path, '*.csv'))\n",
    "print(len(data_path_list))"
   ]
  },
  {
   "cell_type": "code",
   "execution_count": 4,
   "id": "e63c62e2",
   "metadata": {},
   "outputs": [],
   "source": [
    "using_columns = ['Time[s]', 'TE1', 'E.RPM',\n",
    "       'E.Vlt', 'E.Iq', 'E.Tmp', 'E.Pwr', 'E.Tar','E.Id','RPM', 'P_UD']\n",
    "\n",
    "x_columns = [ 'TE1', 'E.RPM', 'E.Vlt', 'E.Iq', 'E.Tmp', 'E.Pwr', 'E.Tar']\n",
    "#x_columns = [ 'E.Iq']\n",
    "y_columns = ['P_UD']"
   ]
  },
  {
   "cell_type": "code",
   "execution_count": 5,
   "id": "ef3b5871",
   "metadata": {},
   "outputs": [],
   "source": [
    "data_size = len(data_path_list)\n",
    "train_size = int(data_size*0.8)\n",
    "test_size = data_size - train_size\n",
    "val_size = int(train_size*0.2)"
   ]
  },
  {
   "cell_type": "code",
   "execution_count": 6,
   "id": "9c0c68ac",
   "metadata": {},
   "outputs": [],
   "source": [
    "train_datapath, test_datapath = random_split(data_path_list, [train_size, test_size])\n",
    "train_datapath, val_datapath = random_split(train_datapath, [(train_size - val_size),val_size])"
   ]
  },
  {
   "cell_type": "code",
   "execution_count": 7,
   "id": "9b608ab3",
   "metadata": {},
   "outputs": [
    {
     "name": "stdout",
     "output_type": "stream",
     "text": [
      "Already exists\n",
      "Already exists\n",
      "Already exists\n"
     ]
    }
   ],
   "source": [
    "def createFolder(directory): #현재 경로에 Train / Test / Val 폴더 생성\n",
    "    if not os.path.exists(directory):\n",
    "        os.mkdir(directory)\n",
    "        \n",
    "    elif os.path.exists(directory):\n",
    "        print('Already exists')\n",
    "        \n",
    "    else:\n",
    "        print('Error: Creating directory. ' + directory)\n",
    "        \n",
    "createFolder(os.path.join(os.getcwd(),'csv_final/train'))\n",
    "createFolder(os.path.join(os.getcwd(),'csv_final/test'))\n",
    "createFolder(os.path.join(os.getcwd(),'csv_final/val'))"
   ]
  },
  {
   "cell_type": "code",
   "execution_count": 8,
   "id": "3701894d",
   "metadata": {},
   "outputs": [],
   "source": [
    "for i in range(len(train_datapath)):\n",
    "    shutil.copy2(train_datapath[i], './csv_final/train')\n",
    "    \n",
    "for j in range(len(test_datapath)):\n",
    "    shutil.copy2(test_datapath[j], './csv_final/test')\n",
    "    \n",
    "for k in range(len(val_datapath)):\n",
    "    shutil.copy2(val_datapath[k], './csv_final/val')"
   ]
  },
  {
   "cell_type": "code",
   "execution_count": 9,
   "id": "93020415",
   "metadata": {},
   "outputs": [],
   "source": [
    "train=[]\n",
    "test=[]\n",
    "val=[]\n",
    "num = 0\n",
    "\n",
    "for path in train_datapath :\n",
    "    num = num + 1\n",
    "    df_cut = pd.read_csv(path)[using_columns]\n",
    "    train.append(df_cut)\n",
    "    if num > 3 :\n",
    "        break\n",
    "    \n",
    "for path in test_datapath :\n",
    "    df_cut = pd.read_csv(path)[using_columns]\n",
    "    test.append(df_cut)\n",
    "    \n",
    "for path in val_datapath :\n",
    "    df_cut = pd.read_csv(path)[using_columns]\n",
    "    val.append(df_cut)"
   ]
  },
  {
   "cell_type": "code",
   "execution_count": 10,
   "id": "e83a6e47",
   "metadata": {},
   "outputs": [
    {
     "name": "stdout",
     "output_type": "stream",
     "text": [
      "      Time[s]     TE1  E.RPM  E.Vlt  E.Iq  E.Tmp  E.Pwr   E.Tar  E.Id  RPM  \\\n",
      "0       0.000  24.589  688.0   13.0  2.82   37.0    3.0  2786.0   0.0  0.0   \n",
      "1       0.001  24.589  688.0   13.0  2.82   37.0    3.0  2786.0   0.0  0.0   \n",
      "2       0.002  24.589  688.0   13.0  2.82   37.0    3.0  2786.0   0.0  0.0   \n",
      "3       0.003  24.589  688.0   13.0  2.82   37.0    3.0  2786.0   0.0  0.0   \n",
      "4       0.004  24.589  688.0   13.0  2.82   37.0    3.0  2786.0   0.0  0.0   \n",
      "...       ...     ...    ...    ...   ...    ...    ...     ...   ...  ...   \n",
      "9115    9.115  24.528  688.0   13.0  2.68   37.0    3.0  2798.0   0.0  0.0   \n",
      "9116    9.116  24.528  688.0   13.0  2.68   37.0    3.0  2798.0   0.0  0.0   \n",
      "9117    9.117  24.528  688.0   13.0  2.68   37.0    3.0  2798.0   0.0  0.0   \n",
      "9118    9.118  24.528  688.0   13.0  2.68   37.0    3.0  2798.0   0.0  0.0   \n",
      "9119    9.119  24.528  688.0   13.0  2.68   37.0    3.0  2798.0   0.0  0.0   \n",
      "\n",
      "       P_UD  \n",
      "0     1.541  \n",
      "1     1.540  \n",
      "2     1.540  \n",
      "3     1.542  \n",
      "4     1.541  \n",
      "...     ...  \n",
      "9115  1.517  \n",
      "9116  1.518  \n",
      "9117  1.519  \n",
      "9118  1.518  \n",
      "9119  1.519  \n",
      "\n",
      "[9120 rows x 11 columns]\n"
     ]
    }
   ],
   "source": [
    "print(train[1])"
   ]
  },
  {
   "cell_type": "code",
   "execution_count": 11,
   "id": "afc7236d",
   "metadata": {},
   "outputs": [],
   "source": [
    "def window_torch(df, x_size, shift): # size = 윈도우 사이즈 / shift = 윈도우 시작점 얼만큼 이동할건지\n",
    "    df_X =False\n",
    "    for i in range(len(df)):\n",
    "        if df_X is False:\n",
    "            df_X = torch.tensor(df[i][x_columns].values, dtype=torch.float32)\n",
    "            df_X = df_X.unfold(0, x_size, shift).transpose(1,2)\n",
    "            \n",
    "        else:\n",
    "            tmp1 = torch.tensor(df[i][x_columns].values, dtype=torch.float32)\n",
    "            tmp1 = tmp1.unfold(0,x_size, shift).transpose(1,2)\n",
    "            df_X = torch.cat([df_X, tmp1],0)\n",
    "            \n",
    "    df_Y = False\n",
    "    for i in range(len(df)):\n",
    "        if df_Y is False:\n",
    "            df_Y = torch.tensor(df[i][y_columns][(x_size-1):].values, dtype=torch.float32)\n",
    "            df_Y = df_Y.unfold(0, 1, shift).transpose(1,2)\n",
    "        \n",
    "        else:\n",
    "            tmp2 = torch.tensor(df[i][y_columns][(x_size-1):].values, dtype=torch.float32)\n",
    "            tmp2 = tmp2.unfold(0, 1, shift).transpose(1,2)\n",
    "            df_Y = torch.cat([df_Y, tmp2],0)\n",
    "            \n",
    "    return df_X, df_Y"
   ]
  },
  {
   "cell_type": "code",
   "execution_count": 12,
   "id": "50e594da",
   "metadata": {},
   "outputs": [],
   "source": [
    "x_size, shift = 1, 1"
   ]
  },
  {
   "cell_type": "code",
   "execution_count": 13,
   "id": "d518e323",
   "metadata": {},
   "outputs": [],
   "source": [
    "train_X, train_Y = window_torch(train, x_size, shift)\n",
    "train_dataset = torch.utils.data.TensorDataset(train_X, train_Y)\n",
    "train_loader = torch.utils.data.DataLoader(dataset=train_dataset, batch_size=1, shuffle=False) \n",
    "\n",
    "test_X, test_Y = window_torch(test, x_size, shift)\n",
    "test_dataset = torch.utils.data.TensorDataset(test_X, test_Y)\n",
    "test_loader = torch.utils.data.DataLoader(dataset=test_dataset, batch_size=1, shuffle=False) \n",
    "\n",
    "val_X, val_Y = window_torch(val, x_size, shift)\n",
    "val_dataset = torch.utils.data.TensorDataset(val_X, val_Y)\n",
    "val_loader = torch.utils.data.DataLoader(dataset=val_dataset, batch_size=1, shuffle=False)"
   ]
  },
  {
   "cell_type": "code",
   "execution_count": 33,
   "id": "42d6376a",
   "metadata": {},
   "outputs": [
    {
     "name": "stdout",
     "output_type": "stream",
     "text": [
      "[tensor([[[  27.9010,  960.0000,   13.0000,    2.9000,   70.0000,    5.0000,\n",
      "          2898.0000]]]), tensor([[[1.4800]]])]\n",
      "3\n",
      "torch.Size([1, 1, 7])\n",
      "torch.Size([1, 1, 7])\n",
      "torch.Size([36836, 1, 7])\n",
      "tensor([[  27.9010,  960.0000,   13.0000,    2.9000,   70.0000,    5.0000,\n",
      "         2898.0000]])\n"
     ]
    }
   ],
   "source": [
    "for i, data in enumerate(train_loader):\n",
    "    print(data)\n",
    "    print(data[0].dim())\n",
    "    print(data[0].size())\n",
    "    print(data[0].shape)\n",
    "    print(train_X.shape)\n",
    "    print(train_X[1])\n",
    "    \n",
    "   \n",
    "    \n",
    "        \n",
    "    break"
   ]
  },
  {
   "cell_type": "code",
   "execution_count": 46,
   "id": "6a6ffef2",
   "metadata": {},
   "outputs": [
    {
     "name": "stdout",
     "output_type": "stream",
     "text": [
      "torch.Size([36836, 7])\n",
      "torch.Size([36836, 1])\n"
     ]
    }
   ],
   "source": [
    "train_x = train_X.reshape(36836, 7)\n",
    "train_y = train_Y.reshape(36836, 1)\n",
    "print(train_x.shape)\n",
    "print(train_y.shape)"
   ]
  },
  {
   "cell_type": "code",
   "execution_count": 23,
   "id": "0e2344ae",
   "metadata": {},
   "outputs": [
    {
     "name": "stdout",
     "output_type": "stream",
     "text": [
      "36836\n",
      "36836\n"
     ]
    }
   ],
   "source": [
    "## print(len(list(train_X)))\n",
    "print(len(list(train_Y)))\n",
    "print(len(train_X))\n"
   ]
  },
  {
   "cell_type": "code",
   "execution_count": 57,
   "id": "54ceb6e7",
   "metadata": {},
   "outputs": [],
   "source": [
    "model = nn.Linear(7,1)\n",
    "loss = nn.MSELoss()\n",
    "optim = torch.optim.SGD(model.parameters(), lr = 0.0001)\n"
   ]
  },
  {
   "cell_type": "code",
   "execution_count": 58,
   "id": "a2df0d73",
   "metadata": {},
   "outputs": [
    {
     "name": "stdout",
     "output_type": "stream",
     "text": [
      "Epoch [1/100], Loss: 1132802.0000000000\n",
      "Epoch [2/100], Loss: 46515229818880.0000000000\n",
      "Epoch [3/100], Loss: 1912548861042497683456.0000000000\n",
      "Epoch [4/100], Loss: 78631203444798302872435425280.0000000000\n",
      "Epoch [5/100], Loss: inf\n",
      "Epoch [6/100], Loss: inf\n",
      "Epoch [7/100], Loss: inf\n",
      "Epoch [8/100], Loss: inf\n",
      "Epoch [9/100], Loss: inf\n",
      "Epoch [10/100], Loss: inf\n",
      "Epoch [11/100], Loss: inf\n",
      "Epoch [12/100], Loss: nan\n",
      "Epoch [13/100], Loss: nan\n",
      "Epoch [14/100], Loss: nan\n",
      "Epoch [15/100], Loss: nan\n",
      "Epoch [16/100], Loss: nan\n",
      "Epoch [17/100], Loss: nan\n",
      "Epoch [18/100], Loss: nan\n",
      "Epoch [19/100], Loss: nan\n",
      "Epoch [20/100], Loss: nan\n",
      "Epoch [21/100], Loss: nan\n",
      "Epoch [22/100], Loss: nan\n",
      "Epoch [23/100], Loss: nan\n",
      "Epoch [24/100], Loss: nan\n",
      "Epoch [25/100], Loss: nan\n",
      "Epoch [26/100], Loss: nan\n",
      "Epoch [27/100], Loss: nan\n",
      "Epoch [28/100], Loss: nan\n",
      "Epoch [29/100], Loss: nan\n",
      "Epoch [30/100], Loss: nan\n",
      "Epoch [31/100], Loss: nan\n",
      "Epoch [32/100], Loss: nan\n",
      "Epoch [33/100], Loss: nan\n",
      "Epoch [34/100], Loss: nan\n",
      "Epoch [35/100], Loss: nan\n",
      "Epoch [36/100], Loss: nan\n",
      "Epoch [37/100], Loss: nan\n",
      "Epoch [38/100], Loss: nan\n",
      "Epoch [39/100], Loss: nan\n",
      "Epoch [40/100], Loss: nan\n",
      "Epoch [41/100], Loss: nan\n",
      "Epoch [42/100], Loss: nan\n",
      "Epoch [43/100], Loss: nan\n",
      "Epoch [44/100], Loss: nan\n",
      "Epoch [45/100], Loss: nan\n",
      "Epoch [46/100], Loss: nan\n",
      "Epoch [47/100], Loss: nan\n",
      "Epoch [48/100], Loss: nan\n",
      "Epoch [49/100], Loss: nan\n",
      "Epoch [50/100], Loss: nan\n",
      "Epoch [51/100], Loss: nan\n",
      "Epoch [52/100], Loss: nan\n",
      "Epoch [53/100], Loss: nan\n",
      "Epoch [54/100], Loss: nan\n",
      "Epoch [55/100], Loss: nan\n",
      "Epoch [56/100], Loss: nan\n",
      "Epoch [57/100], Loss: nan\n",
      "Epoch [58/100], Loss: nan\n",
      "Epoch [59/100], Loss: nan\n",
      "Epoch [60/100], Loss: nan\n",
      "Epoch [61/100], Loss: nan\n",
      "Epoch [62/100], Loss: nan\n",
      "Epoch [63/100], Loss: nan\n",
      "Epoch [64/100], Loss: nan\n",
      "Epoch [65/100], Loss: nan\n",
      "Epoch [66/100], Loss: nan\n",
      "Epoch [67/100], Loss: nan\n",
      "Epoch [68/100], Loss: nan\n",
      "Epoch [69/100], Loss: nan\n",
      "Epoch [70/100], Loss: nan\n",
      "Epoch [71/100], Loss: nan\n",
      "Epoch [72/100], Loss: nan\n",
      "Epoch [73/100], Loss: nan\n",
      "Epoch [74/100], Loss: nan\n",
      "Epoch [75/100], Loss: nan\n",
      "Epoch [76/100], Loss: nan\n",
      "Epoch [77/100], Loss: nan\n",
      "Epoch [78/100], Loss: nan\n",
      "Epoch [79/100], Loss: nan\n",
      "Epoch [80/100], Loss: nan\n",
      "Epoch [81/100], Loss: nan\n",
      "Epoch [82/100], Loss: nan\n",
      "Epoch [83/100], Loss: nan\n",
      "Epoch [84/100], Loss: nan\n",
      "Epoch [85/100], Loss: nan\n",
      "Epoch [86/100], Loss: nan\n",
      "Epoch [87/100], Loss: nan\n",
      "Epoch [88/100], Loss: nan\n",
      "Epoch [89/100], Loss: nan\n",
      "Epoch [90/100], Loss: nan\n",
      "Epoch [91/100], Loss: nan\n",
      "Epoch [92/100], Loss: nan\n",
      "Epoch [93/100], Loss: nan\n",
      "Epoch [94/100], Loss: nan\n",
      "Epoch [95/100], Loss: nan\n",
      "Epoch [96/100], Loss: nan\n",
      "Epoch [97/100], Loss: nan\n",
      "Epoch [98/100], Loss: nan\n",
      "Epoch [99/100], Loss: nan\n",
      "Epoch [100/100], Loss: nan\n"
     ]
    }
   ],
   "source": [
    "def lrmodel(num_epochs, model, loss_fn, optimizer, train_dl):\n",
    "    for epoch in range(num_epochs):\n",
    "        pred = model(train_x)\n",
    "        loss = loss_fn(pred, train_y)\n",
    "        \n",
    "        optimizer.zero_grad()\n",
    "        loss.backward()\n",
    "        optimizer.step()\n",
    "        \n",
    "        ''''for xb,yb in train_dl:\n",
    "            pred = model(xb)\n",
    "            #loss = loss_fn(pred, yb)\n",
    "            loss = F.mse_loss(pred,yb)\n",
    "\n",
    "            optimizer.zero_grad()\n",
    "            loss.backward()\n",
    "            optimizer.step()'''            \n",
    "        \n",
    "        print('Epoch [{}/{}], Loss: {:.10f}'.format(epoch+1, num_epochs, loss.item()))\n",
    "    \n",
    "    return loss.item()\n",
    "\n",
    "num_epochs=100\n",
    "a = lrmodel(num_epochs, model, loss, optim, train_loader)"
   ]
  },
  {
   "cell_type": "code",
   "execution_count": 39,
   "id": "98641d06",
   "metadata": {},
   "outputs": [
    {
     "name": "stdout",
     "output_type": "stream",
     "text": [
      "nan\n"
     ]
    }
   ],
   "source": [
    "print(a)"
   ]
  },
  {
   "cell_type": "code",
   "execution_count": null,
   "id": "9cb997ba",
   "metadata": {},
   "outputs": [],
   "source": []
  }
 ],
 "metadata": {
  "interpreter": {
   "hash": "e3d3cdff1f60096afccd6e0835b72da4927d78076c49e2e799b0048713fac77c"
  },
  "kernelspec": {
   "display_name": "Python 3 (ipykernel)",
   "language": "python",
   "name": "python3"
  },
  "language_info": {
   "codemirror_mode": {
    "name": "ipython",
    "version": 3
   },
   "file_extension": ".py",
   "mimetype": "text/x-python",
   "name": "python",
   "nbconvert_exporter": "python",
   "pygments_lexer": "ipython3",
   "version": "3.7.13"
  }
 },
 "nbformat": 4,
 "nbformat_minor": 5
}
