{
 "cells": [
  {
   "cell_type": "code",
   "execution_count": 1,
   "id": "cc2e649d",
   "metadata": {},
   "outputs": [
    {
     "name": "stderr",
     "output_type": "stream",
     "text": [
      "/Users/hyunsucksong/opt/anaconda3/envs/songforgpu/lib/python3.7/site-packages/tqdm/auto.py:22: TqdmWarning: IProgress not found. Please update jupyter and ipywidgets. See https://ipywidgets.readthedocs.io/en/stable/user_install.html\n",
      "  from .autonotebook import tqdm as notebook_tqdm\n"
     ]
    }
   ],
   "source": [
    "import pandas as pd\n",
    "from glob import glob\n",
    "from torch.utils.data import TensorDataset, DataLoader, random_split\n",
    "import torch\n",
    "import torch.nn as nn\n",
    "import torch.optim as optim\n",
    "import os\n",
    "import math\n",
    "import shutil"
   ]
  },
  {
   "cell_type": "code",
   "execution_count": 2,
   "id": "5379d44a",
   "metadata": {},
   "outputs": [
    {
     "name": "stdout",
     "output_type": "stream",
     "text": [
      "0\n"
     ]
    }
   ],
   "source": [
    "data_path = os.path.join(os.getcwd(), '계측_csv_final')\n",
    "data_path_list = glob(os.path.join(data_path, '*.csv'))\n",
    "print(len(data_path_list))"
   ]
  },
  {
   "cell_type": "code",
   "execution_count": 4,
   "id": "e63c62e2",
   "metadata": {},
   "outputs": [],
   "source": [
    "using_columns = ['Time[s]', 'TE1', 'E.RPM',\n",
    "       'E.Vlt', 'E.Iq', 'E.Tmp', 'E.Pwr', 'E.Tar','E.Id','RPM', 'P_UD']\n",
    "\n",
    "x_columns = [ 'TE1', 'E.RPM', 'E.Vlt', 'E.Iq', 'E.Tmp', 'E.Pwr', 'E.Tar']\n",
    "y_columns = ['P_UD']"
   ]
  },
  {
   "cell_type": "code",
   "execution_count": 5,
   "id": "ef3b5871",
   "metadata": {},
   "outputs": [],
   "source": [
    "data_size = len(data_path_list)\n",
    "train_size = int(data_size*0.8)\n",
    "test_size = data_size - train_size\n",
    "val_size = int(train_size*0.2)"
   ]
  },
  {
   "cell_type": "code",
   "execution_count": 6,
   "id": "9c0c68ac",
   "metadata": {},
   "outputs": [],
   "source": [
    "train_datapath, test_datapath = random_split(data_path_list, [train_size, test_size])\n",
    "train_datapath, val_datapath = random_split(train_datapath, [(train_size - val_size),val_size])"
   ]
  },
  {
   "cell_type": "code",
   "execution_count": 2,
   "id": "9b608ab3",
   "metadata": {},
   "outputs": [
    {
     "name": "stdout",
     "output_type": "stream",
     "text": [
      "Already exists\n",
      "Already exists\n",
      "Already exists\n"
     ]
    }
   ],
   "source": [
    "def createFolder(directory): #현재 경로에 Train / Test / Val 폴더 생성\n",
    "    if not os.path.exists(directory):\n",
    "        os.mkdir(directory)\n",
    "        \n",
    "    elif os.path.exists(directory):\n",
    "        print('Already exists')\n",
    "        \n",
    "    else:\n",
    "        print('Error: Creating directory. ' + directory)\n",
    "        \n",
    "createFolder(os.path.join(os.getcwd(),'csv_final/train'))\n",
    "createFolder(os.path.join(os.getcwd(),'csv_final/test'))\n",
    "createFolder(os.path.join(os.getcwd(),'csv_final/val'))"
   ]
  },
  {
   "cell_type": "code",
   "execution_count": null,
   "id": "3701894d",
   "metadata": {},
   "outputs": [],
   "source": [
    "for i in range(len(train_datapath)):\n",
    "    shutil.copy2(train_datapath[i], './csv_final/train')\n",
    "    \n",
    "for j in range(len(test_datapath)):\n",
    "    shutil.copy2(test_datapath[j], './csv_final/test')\n",
    "    \n",
    "for k in range(len(val_datapath)):\n",
    "    shutil.copy2(val_datapath[k], './csv_final/val')"
   ]
  },
  {
   "cell_type": "code",
   "execution_count": 49,
   "id": "93020415",
   "metadata": {},
   "outputs": [],
   "source": [
    "train=[]\n",
    "test=[]\n",
    "val=[]\n",
    "\n",
    "for path in train_datapath :\n",
    "    df_cut = pd.read_csv(path)[using_columns]\n",
    "    train.append(df_cut)\n",
    "    \n",
    "for path in test_datapath :\n",
    "    df_cut = p2d.read_csv(path)[using_columns]\n",
    "    test.append(df_cut)\n",
    "    \n",
    "for path in val_datapath :\n",
    "    df_cut = pd.read_csv(path)[using_columns]\n",
    "    val.append(df_cut)"
   ]
  },
  {
   "cell_type": "code",
   "execution_count": 62,
   "id": "afc7236d",
   "metadata": {},
   "outputs": [],
   "source": [
    "def window_torch(df, x_size, shift): # size = 윈도우 사이즈 / shift = 윈도우 시작점 얼만큼 이동할건지\n",
    "    df_X =False\n",
    "    for i in range(len(df)):\n",
    "        if df_X is False:\n",
    "            df_X = torch.tensor(df[i][x_columns].values, dtype=torch.float32)\n",
    "            df_X = df_X.unfold(0, x_size, shift).transpose(1,2)\n",
    "            \n",
    "        else:\n",
    "            tmp1 = torch.tensor(df[i][x_columns].values, dtype=torch.float32)\n",
    "            tmp1 = tmp1.unfold(0,x_size, shift).transpose(1,2)\n",
    "            df_X = torch.cat([df_X, tmp1],0)\n",
    "            \n",
    "    df_Y = False\n",
    "    for i in range(len(df)):\n",
    "        if df_Y is False:\n",
    "            df_Y = torch.tensor(df[i][y_columns][(x_size-1):].values, dtype=torch.float32)\n",
    "            df_Y = df_Y.unfold(0, 1, shift).transpose(1,2)\n",
    "        \n",
    "        else:\n",
    "            tmp2 = torch.tensor(df[i][y_columns][(x_size-1):].values, dtype=torch.float32)\n",
    "            tmp2 = tmp2.unfold(0, 1, shift).transpose(1,2)\n",
    "            df_Y = torch.cat([df_Y, tmp2],0)\n",
    "            \n",
    "    return df_X, df_Y"
   ]
  },
  {
   "cell_type": "code",
   "execution_count": 63,
   "id": "50e594da",
   "metadata": {},
   "outputs": [],
   "source": [
    "x_size, shift = 2, 1"
   ]
  },
  {
   "cell_type": "code",
   "execution_count": 64,
   "id": "d518e323",
   "metadata": {},
   "outputs": [],
   "source": [
    "train_X, train_Y = window_torch(train, x_size, shift)\n",
    "train_dataset = torch.utils.data.TensorDataset(train_X, train_Y)\n",
    "train_loader = torch.utils.data.DataLoader(dataset=train_dataset, batch_size=1, shuffle=False) \n",
    "\n",
    "test_X, test_Y = window_torch(test, x_size, shift)\n",
    "test_dataset = torch.utils.data.TensorDataset(test_X, test_Y)\n",
    "test_loader = torch.utils.data.DataLoader(dataset=test_dataset, batch_size=1, shuffle=False) \n",
    "\n",
    "val_X, val_Y = window_torch(val, x_size, shift)\n",
    "val_dataset = torch.utils.data.TensorDataset(val_X, val_Y)\n",
    "val_loader = torch.utils.data.DataLoader(dataset=val_dataset, batch_size=1, shuffle=False)"
   ]
  },
  {
   "cell_type": "code",
   "execution_count": 71,
   "id": "42d6376a",
   "metadata": {},
   "outputs": [
    {
     "name": "stdout",
     "output_type": "stream",
     "text": [
      "[tensor([[[  28.2280,  994.0000,   13.0000,    2.9600,   73.0000,    5.0000,\n",
      "          2922.0000],\n",
      "         [  28.2280,  994.0000,   13.0000,    2.9600,   73.0000,    5.0000,\n",
      "          2922.0000]]]), tensor([[[1.5010]]])]\n"
     ]
    }
   ],
   "source": [
    "for i, data in enumerate(test_loader):\n",
    "    print(data)\n",
    "    break"
   ]
  },
  {
   "cell_type": "code",
   "execution_count": 72,
   "id": "7dccb9c5",
   "metadata": {},
   "outputs": [
    {
     "name": "stdout",
     "output_type": "stream",
     "text": [
      "1558538\n",
      "1558538\n"
     ]
    }
   ],
   "source": [
    "print(len(list(train_X)))\n",
    "print(len(list(train_Y)))"
   ]
  }
 ],
 "metadata": {
  "interpreter": {
   "hash": "e3d3cdff1f60096afccd6e0835b72da4927d78076c49e2e799b0048713fac77c"
  },
  "kernelspec": {
   "display_name": "Python 3 (ipykernel)",
   "language": "python",
   "name": "python3"
  },
  "language_info": {
   "codemirror_mode": {
    "name": "ipython",
    "version": 3
   },
   "file_extension": ".py",
   "mimetype": "text/x-python",
   "name": "python",
   "nbconvert_exporter": "python",
   "pygments_lexer": "ipython3",
   "version": "3.7.13"
  }
 },
 "nbformat": 4,
 "nbformat_minor": 5
}
